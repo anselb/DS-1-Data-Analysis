{
 "cells": [
  {
   "cell_type": "markdown",
   "metadata": {},
   "source": [
    "<center><img src='img/ms_logo.jpeg' height=40% width=40%></center>\n",
    "\n",
    "<center><h1>Z-Scores and Probability: Practice Problems</h1></center>\n",
    "\n",
    "This notebook is designed as a way to practice answering questions of probability using the Z scores and the Standard Normal Distribution.  \n",
    "\n",
    "Try to answer the three following questions:\n",
    "\n",
    "\n",
    "**1.**  The average height of students at Make School is 5'7\", with a standard deviation of 2.5 inches.  What percentage of Make School students are between 5'5\" and 6' tall?\n",
    "<br>\n",
    "<br>\n",
    "**2.**  The average startup in San Francisco raises 1.5 million dollars with a standard deviation of 400,000 dollars.  Your boss wants to raise a 3 million dollar seed round.  Based only on how other startups have done, what are the odds (percentage chance) that he will be successful?\n",
    "<br>\n",
    "<br>\n",
    "**3.**  You've decided to track the number of jokes Alan makes at Mike's expense during a given class period.  Alan averages 2.5 jokes about Mike per class, with a standard deviation of .7 jokes.  Mike has had a rough day, and will probably start crying if Alan makes more than 2 jokes about him today.  What is the percentage chance that Mike will NOT break down crying in class today?\n",
    "\n",
    "**NOTE:** To solve these questions, you can use a lookup-table for the Z-score, or just use the stats package inside of scipy.  \n",
    "\n",
    "To compute the cumulative area to the **left** of a Z-score, use the cumulative density function.\n",
    "<br>\n",
    "<center>`st.norm.cdf(z-score)`</center>\n",
    "<br>\n",
    "\n",
    "To compute the cumulative area to the **right** of a Z-score, use the survival function.\n",
    "<br>\n",
    "<center>`st.norm.sf(z-score)`</center>\n",
    "<br>\n",
    "\n",
    "Recall that to calculate a Z-score for a particular point, you need to **_normalize_** it by subtracting the mean from that point, and then dividing that number by the standard deviation.  "
   ]
  },
  {
   "cell_type": "code",
   "execution_count": 1,
   "metadata": {},
   "outputs": [
    {
     "name": "stdout",
     "output_type": "stream",
     "text": [
      "Area to the left: 0.9494974165258963\n",
      "Area to the right: 0.05050258347410371\n",
      "total area under curve: 1.0\n"
     ]
    }
   ],
   "source": [
    "import scipy.stats as st\n",
    "# Example use:\n",
    "# A Z-score of ~1.64 == ~95% to the left, ~5% to the right\n",
    "left_tail = st.norm.cdf(1.64)\n",
    "right_tail = st.norm.sf(1.64)\n",
    "\n",
    "\n",
    "print(\"Area to the left: {}\".format(left_tail))\n",
    "print(\"Area to the right: {}\".format(right_tail))\n",
    "print(\"total area under curve: {}\".format(left_tail + right_tail))"
   ]
  },
  {
   "cell_type": "code",
   "execution_count": 2,
   "metadata": {},
   "outputs": [
    {
     "data": {
      "text/plain": [
       "0.23752526202697649"
      ]
     },
     "execution_count": 2,
     "metadata": {},
     "output_type": "execute_result"
    }
   ],
   "source": [
    "# Now, write some code to find the answers to the questions listed above! \n",
    "# (65 - 67) / 2.5 = -0.8\n",
    "# (72 - 67) / 2.5 = 2.0\n",
    "# st.norm.cdf(2.0) - st.norm.cdf(-0.8)\n",
    "# (3 - 1.5) / 0.4 = 3.75\n",
    "# st.norm.sf(3.75)\n",
    "# (2 - 2.5) / 0.7 = -0.7142857142857143\n",
    "st.norm.cdf(-0.7142857142857143)"
   ]
  },
  {
   "cell_type": "markdown",
   "metadata": {},
   "source": [
    "Answer 1: 0.76539446946842404\n",
    "\n",
    "\n",
    "\n",
    "Answer 2: 8.8417285200803773e-05\n",
    "\n",
    "\n",
    "\n",
    "Answer 3: 0.23752526202697649\n",
    "\n",
    "\n"
   ]
  },
  {
   "cell_type": "markdown",
   "metadata": {},
   "source": [
    "Query 1: \n",
    "SELECT * FROM city\n",
    "WHERE population > 100000 AND countrycode = 'USA';\n",
    "\n",
    "Query 2:\n",
    "SELECT name FROM city\n",
    "WHERE population > 120000 AND countrycode = 'USA';\n",
    "\n",
    "Query 3:\n",
    "SELECT * FROM city;\n",
    "\n",
    "Query 4:\n",
    "SELECT * FROM city\n",
    "WHERE id = 1661;\n",
    "\n",
    "Query 5:\n",
    "SELECT * FROM city\n",
    "WHERE countrycode = 'JPN';\n",
    "\n",
    "Query 6:\n",
    "SELECT name FROM city\n",
    "WHERE countrycode = 'JPN';\n",
    "\n",
    "Query 7:\n",
    "SELECT city, state FROM station\n",
    "\n",
    "Query 8:\n",
    "SELECT DISTINCT city FROM station\n",
    "WHERE (id % 2) = 0;\n",
    "\n",
    "Query 9:\n",
    "SELECT (count(city) - count(DISTINCT city)) FROM station;"
   ]
  },
  {
   "cell_type": "code",
   "execution_count": null,
   "metadata": {
    "collapsed": true
   },
   "outputs": [],
   "source": []
  }
 ],
 "metadata": {
  "kernelspec": {
   "display_name": "Python 3",
   "language": "python",
   "name": "python3"
  },
  "language_info": {
   "codemirror_mode": {
    "name": "ipython",
    "version": 3
   },
   "file_extension": ".py",
   "mimetype": "text/x-python",
   "name": "python",
   "nbconvert_exporter": "python",
   "pygments_lexer": "ipython3",
   "version": "3.6.3"
  }
 },
 "nbformat": 4,
 "nbformat_minor": 2
}
