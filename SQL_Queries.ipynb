{
 "cells": [
  {
   "cell_type": "markdown",
   "metadata": {
    "collapsed": true
   },
   "source": [
    "HackerRank SQL Queries\n",
    "\n",
    "Query 1: \n",
    "SELECT * FROM city\n",
    "WHERE population > 100000 AND countrycode = 'USA';\n",
    "\n",
    "Query 2:\n",
    "SELECT name FROM city\n",
    "WHERE population > 120000 AND countrycode = 'USA';\n",
    "\n",
    "Query 3:\n",
    "SELECT * FROM city;\n",
    "\n",
    "Query 4:\n",
    "SELECT * FROM city\n",
    "WHERE id = 1661;\n",
    "\n",
    "Query 5:\n",
    "SELECT * FROM city\n",
    "WHERE countrycode = 'JPN';\n",
    "\n",
    "Query 6:\n",
    "SELECT name FROM city\n",
    "WHERE countrycode = 'JPN';\n",
    "\n",
    "Query 7:\n",
    "SELECT city, state FROM station\n",
    "\n",
    "Query 8:\n",
    "SELECT DISTINCT city FROM station\n",
    "WHERE (id % 2) = 0;\n",
    "\n",
    "Query 9:\n",
    "SELECT (count(city) - count(DISTINCT city)) FROM station;\n",
    "\n",
    "Query 10:\n",
    "SELECT city, LENGTH(city) FROM station\n",
    "ORDER BY LENGTH(city), city LIMIT 1;\n",
    "\n",
    "SELECT city, LENGTH(city) FROM station\n",
    "ORDER BY LENGTH(city) DESC, city LIMIT 1;"
   ]
  },
  {
   "cell_type": "markdown",
   "metadata": {},
   "source": [
    "1. Get the player names, player hometowns, school names, player positions, and school conferences for all players with position ‘QB’ or ‘WR’\n",
    "\n",
    "    SELECT player_name, hometown, full_school_name, position, teams.conference \n",
    "    FROM benn.college_football_players players\n",
    "    JOIN benn.college_football_teams teams\n",
    "    ON players.school_name = teams.school_name\n",
    "    WHERE players.position = 'QB' OR players.position ='WR'\n",
    "    \n",
    "2. Create a table that displays the average height of players at each position.\n",
    "    \n",
    "    SELECT AVG(height), position FROM benn.college_football_players \n",
    "    WHERE height != 0 and position != '?'\n",
    "    GROUP BY position\n",
    "    ORDER BY avg DESC\n",
    "    \n",
    "3. Write a query that find the top 5 tallest players, as well as their position, height, school, and the conference they belong to.  \n",
    "\n",
    "    SELECT player_name, position, height, full_school_name, teams.conference \n",
    "    FROM benn.college_football_players players\n",
    "    JOIN benn.college_football_teams teams\n",
    "    ON players.school_name = teams.school_name\n",
    "    ORDER BY height DESC\n",
    "    LIMIT 5\n",
    "    \n",
    "4. Write a query that gets the company name, founding date, acquirer name, and acquisition date from the crunchbase database.\n",
    "\n",
    "    SELECT name, founded_at, acq.acquired_at, acq.acquirer_name\n",
    "    FROM tutorial.crunchbase_companies comp\n",
    "    JOIN tutorial.crunchbase_acquisitions acq\n",
    "    ON comp.name = acq.company_name\n",
    "    ORDER BY acquirer_name\n",
    "\n",
    "5. Companies from which 10 cities have the highest average acquisition amount?\n",
    "\n",
    "    SELECT region, AVG(funding_total_usd) AS avg_funding\n",
    "    FROM tutorial.crunchbase_companies \n",
    "    WHERE region != 'unknown' AND funding_total_usd > 0\n",
    "    GROUP BY region\n",
    "    HAVING COUNT(region) >= 10\n",
    "    ORDER BY avg_funding DESC\n",
    "\n",
    "6. Write a query (or queries) that compares the average amount of investment raised by companies in SF per quarter to companies in NYC.  \n",
    "\n",
    "7. What is the max/min/average amount of investment money raised by companies in SF that have been acquired at some point?\n",
    "\n",
    "8. In SF, what pd_district am I most likely to have my car stolen, and on what day of the week is this most likely?\n",
    "\n",
    "9. Which top 3 categories of crime are most likely to go unresolved in Mission District?\n"
   ]
  },
  {
   "cell_type": "markdown",
   "metadata": {
    "collapsed": true
   },
   "source": [
    "For companies in SF with names that start with the letter ‘a’, what percentage of companies raise a funding total between \\$25 and \\$30 million? Create a visualization that shows this on a graph of a normal distribution. \n",
    "\n",
    "    SELECT *\n",
    "    FROM tutorial.crunchbase_companies \n",
    "    WHERE city = 'San Francisco' AND (name LIKE 'a%' OR name LIKE 'A%') AND funding_total_usd != 0"
   ]
  },
  {
   "cell_type": "markdown",
   "metadata": {},
   "source": [
    "HackerRank SQL JOIN Queries\n",
    "\n",
    "Query 1: \n",
    "SELECT SUM(city.Population)\n",
    "FROM city\n",
    "JOIN country\n",
    "ON city.CountryCode = country.Code\n",
    "WHERE Continent = 'Asia'\n",
    "\n",
    "Query 2:\n",
    "SELECT city.name\n",
    "FROM city\n",
    "JOIN country\n",
    "ON city.CountryCode = country.Code\n",
    "WHERE Continent = 'Africa'\n",
    "\n",
    "Query 3:\n",
    "SELECT country.Continent, FLOOR(AVG(city.population))\n",
    "FROM city\n",
    "JOIN country\n",
    "ON city.CountryCode = country.Code\n",
    "GROUP BY country.Continent\n",
    "\n",
    "Query 4:\n",
    "\n",
    "Query 5:"
   ]
  },
  {
   "cell_type": "code",
   "execution_count": 1,
   "metadata": {
    "collapsed": true
   },
   "outputs": [],
   "source": [
    "import numpy as np\n",
    "import pandas as pd\n",
    "import matplotlib.pyplot as plt\n",
    "%matplotlib inline\n",
    "\n",
    "np.random.seed(1547)"
   ]
  },
  {
   "cell_type": "code",
   "execution_count": 2,
   "metadata": {},
   "outputs": [
    {
     "data": {
      "text/html": [
       "<div>\n",
       "<style>\n",
       "    .dataframe thead tr:only-child th {\n",
       "        text-align: right;\n",
       "    }\n",
       "\n",
       "    .dataframe thead th {\n",
       "        text-align: left;\n",
       "    }\n",
       "\n",
       "    .dataframe tbody tr th {\n",
       "        vertical-align: top;\n",
       "    }\n",
       "</style>\n",
       "<table border=\"1\" class=\"dataframe\">\n",
       "  <thead>\n",
       "    <tr style=\"text-align: right;\">\n",
       "      <th></th>\n",
       "      <th>funding_total_usd</th>\n",
       "      <th>funding_rounds</th>\n",
       "      <th>founded_year</th>\n",
       "      <th>id</th>\n",
       "    </tr>\n",
       "  </thead>\n",
       "  <tbody>\n",
       "    <tr>\n",
       "      <th>count</th>\n",
       "      <td>8.100000e+01</td>\n",
       "      <td>81.000000</td>\n",
       "      <td>72.000000</td>\n",
       "      <td>81.000000</td>\n",
       "    </tr>\n",
       "    <tr>\n",
       "      <th>mean</th>\n",
       "      <td>1.538720e+07</td>\n",
       "      <td>2.098765</td>\n",
       "      <td>2008.569444</td>\n",
       "      <td>1359.185185</td>\n",
       "    </tr>\n",
       "    <tr>\n",
       "      <th>std</th>\n",
       "      <td>3.963926e+07</td>\n",
       "      <td>1.365695</td>\n",
       "      <td>3.695549</td>\n",
       "      <td>598.810615</td>\n",
       "    </tr>\n",
       "    <tr>\n",
       "      <th>min</th>\n",
       "      <td>5.000000e+03</td>\n",
       "      <td>1.000000</td>\n",
       "      <td>1995.000000</td>\n",
       "      <td>285.000000</td>\n",
       "    </tr>\n",
       "    <tr>\n",
       "      <th>25%</th>\n",
       "      <td>1.000000e+06</td>\n",
       "      <td>1.000000</td>\n",
       "      <td>2007.000000</td>\n",
       "      <td>769.000000</td>\n",
       "    </tr>\n",
       "    <tr>\n",
       "      <th>50%</th>\n",
       "      <td>3.000000e+06</td>\n",
       "      <td>2.000000</td>\n",
       "      <td>2010.000000</td>\n",
       "      <td>1498.000000</td>\n",
       "    </tr>\n",
       "    <tr>\n",
       "      <th>75%</th>\n",
       "      <td>1.600000e+07</td>\n",
       "      <td>3.000000</td>\n",
       "      <td>2011.000000</td>\n",
       "      <td>1892.000000</td>\n",
       "    </tr>\n",
       "    <tr>\n",
       "      <th>max</th>\n",
       "      <td>3.264410e+08</td>\n",
       "      <td>6.000000</td>\n",
       "      <td>2013.000000</td>\n",
       "      <td>2370.000000</td>\n",
       "    </tr>\n",
       "  </tbody>\n",
       "</table>\n",
       "</div>"
      ],
      "text/plain": [
       "       funding_total_usd  funding_rounds  founded_year           id\n",
       "count       8.100000e+01       81.000000     72.000000    81.000000\n",
       "mean        1.538720e+07        2.098765   2008.569444  1359.185185\n",
       "std         3.963926e+07        1.365695      3.695549   598.810615\n",
       "min         5.000000e+03        1.000000   1995.000000   285.000000\n",
       "25%         1.000000e+06        1.000000   2007.000000   769.000000\n",
       "50%         3.000000e+06        2.000000   2010.000000  1498.000000\n",
       "75%         1.600000e+07        3.000000   2011.000000  1892.000000\n",
       "max         3.264410e+08        6.000000   2013.000000  2370.000000"
      ]
     },
     "execution_count": 2,
     "metadata": {},
     "output_type": "execute_result"
    }
   ],
   "source": [
    "sf_df = pd.read_csv('datasets/sf_a_companies.csv')\n",
    "sf_df.describe()"
   ]
  },
  {
   "cell_type": "code",
   "execution_count": 3,
   "metadata": {},
   "outputs": [
    {
     "data": {
      "text/html": [
       "<div>\n",
       "<style>\n",
       "    .dataframe thead tr:only-child th {\n",
       "        text-align: right;\n",
       "    }\n",
       "\n",
       "    .dataframe thead th {\n",
       "        text-align: left;\n",
       "    }\n",
       "\n",
       "    .dataframe tbody tr th {\n",
       "        vertical-align: top;\n",
       "    }\n",
       "</style>\n",
       "<table border=\"1\" class=\"dataframe\">\n",
       "  <thead>\n",
       "    <tr style=\"text-align: right;\">\n",
       "      <th></th>\n",
       "      <th>funding_total_usd</th>\n",
       "      <th>funding_rounds</th>\n",
       "      <th>founded_year</th>\n",
       "      <th>id</th>\n",
       "    </tr>\n",
       "  </thead>\n",
       "  <tbody>\n",
       "    <tr>\n",
       "      <th>count</th>\n",
       "      <td>7.700000e+01</td>\n",
       "      <td>77.000000</td>\n",
       "      <td>68.000000</td>\n",
       "      <td>77.000000</td>\n",
       "    </tr>\n",
       "    <tr>\n",
       "      <th>mean</th>\n",
       "      <td>8.721070e+06</td>\n",
       "      <td>1.961039</td>\n",
       "      <td>2008.705882</td>\n",
       "      <td>1353.545455</td>\n",
       "    </tr>\n",
       "    <tr>\n",
       "      <th>std</th>\n",
       "      <td>1.249811e+07</td>\n",
       "      <td>1.240135</td>\n",
       "      <td>3.725903</td>\n",
       "      <td>608.931496</td>\n",
       "    </tr>\n",
       "    <tr>\n",
       "      <th>min</th>\n",
       "      <td>5.000000e+03</td>\n",
       "      <td>1.000000</td>\n",
       "      <td>1995.000000</td>\n",
       "      <td>285.000000</td>\n",
       "    </tr>\n",
       "    <tr>\n",
       "      <th>25%</th>\n",
       "      <td>1.000000e+06</td>\n",
       "      <td>1.000000</td>\n",
       "      <td>2007.000000</td>\n",
       "      <td>727.000000</td>\n",
       "    </tr>\n",
       "    <tr>\n",
       "      <th>50%</th>\n",
       "      <td>2.879987e+06</td>\n",
       "      <td>1.000000</td>\n",
       "      <td>2010.000000</td>\n",
       "      <td>1476.000000</td>\n",
       "    </tr>\n",
       "    <tr>\n",
       "      <th>75%</th>\n",
       "      <td>1.000000e+07</td>\n",
       "      <td>3.000000</td>\n",
       "      <td>2011.000000</td>\n",
       "      <td>1908.000000</td>\n",
       "    </tr>\n",
       "    <tr>\n",
       "      <th>max</th>\n",
       "      <td>5.000000e+07</td>\n",
       "      <td>6.000000</td>\n",
       "      <td>2013.000000</td>\n",
       "      <td>2370.000000</td>\n",
       "    </tr>\n",
       "  </tbody>\n",
       "</table>\n",
       "</div>"
      ],
      "text/plain": [
       "       funding_total_usd  funding_rounds  founded_year           id\n",
       "count       7.700000e+01       77.000000     68.000000    77.000000\n",
       "mean        8.721070e+06        1.961039   2008.705882  1353.545455\n",
       "std         1.249811e+07        1.240135      3.725903   608.931496\n",
       "min         5.000000e+03        1.000000   1995.000000   285.000000\n",
       "25%         1.000000e+06        1.000000   2007.000000   727.000000\n",
       "50%         2.879987e+06        1.000000   2010.000000  1476.000000\n",
       "75%         1.000000e+07        3.000000   2011.000000  1908.000000\n",
       "max         5.000000e+07        6.000000   2013.000000  2370.000000"
      ]
     },
     "execution_count": 3,
     "metadata": {},
     "output_type": "execute_result"
    }
   ],
   "source": [
    "# Removes two outliers\n",
    "sf_no_outliers_df = sf_df[sf_df['funding_total_usd'] <= 80000000]\n",
    "sf_no_outliers_df.describe()"
   ]
  },
  {
   "cell_type": "code",
   "execution_count": 4,
   "metadata": {},
   "outputs": [
    {
     "data": {
      "text/plain": [
       "(array([ 48.,  10.,   2.,   4.,   4.,   1.,   3.,   2.,   1.,   2.]),\n",
       " array([  5.00000000e+03,   5.00450000e+06,   1.00040000e+07,\n",
       "          1.50035000e+07,   2.00030000e+07,   2.50025000e+07,\n",
       "          3.00020000e+07,   3.50015000e+07,   4.00010000e+07,\n",
       "          4.50005000e+07,   5.00000000e+07]),\n",
       " <a list of 10 Patch objects>)"
      ]
     },
     "execution_count": 4,
     "metadata": {},
     "output_type": "execute_result"
    },
    {
     "data": {
      "image/png": "[encoded data removed]",
      "text/plain": [
       "<matplotlib.figure.Figure at 0x10ed60e48>"
      ]
     },
     "metadata": {},
     "output_type": "display_data"
    }
   ],
   "source": [
    "# With outlier\n",
    "# funding_totals = sf_df['funding_total_usd'].apply(lambda x: '%.0f' % x).astype(np.int).values\n",
    "# funding_totals\n",
    "# plt.hist(x=funding_totals)\n",
    "# Without outlier\n",
    "funding_totals = sf_no_outliers_df['funding_total_usd'].values\n",
    "plt.hist(x=funding_totals)"
   ]
  },
  {
   "cell_type": "code",
   "execution_count": 5,
   "metadata": {
    "collapsed": true
   },
   "outputs": [],
   "source": [
    "import random\n",
    "\n",
    "def get_sample(dataset, n=30):\n",
    "    \"\"\"Grabs a random subsample of size 'n' from dataset.\n",
    "    Outputs the mean of the subsample.\"\"\"\n",
    "    sampled_data = []\n",
    "    \n",
    "    for i in range(n):\n",
    "        random_number = random.choice(dataset)\n",
    "        sampled_data.append(random_number)\n",
    "\n",
    "    mean = np.mean(sampled_data)\n",
    "    return mean\n",
    "    \n",
    "def create_sample_distribution(dataset, size=100):\n",
    "    \"\"\"Creates a dataset of subsample means.  The length of the dataset is specified by the 'size' \n",
    "    keyword argument. Should return the entire sample distribution as a numpy array.  \"\"\"\n",
    "    sample_dist = []\n",
    "    \n",
    "    for i in range(size):\n",
    "        sample_dist.append(get_sample(dataset))\n",
    "    \n",
    "    return sample_dist"
   ]
  },
  {
   "cell_type": "code",
   "execution_count": 6,
   "metadata": {},
   "outputs": [
    {
     "data": {
      "text/plain": [
       "(array([  17.,  115.,  188.,  271.,  211.,  140.,   44.,    9.,    3.,    2.]),\n",
       " array([  3165059.13333333,   4690692.82333333,   6216326.51333333,\n",
       "          7741960.20333333,   9267593.89333333,  10793227.58333333,\n",
       "         12318861.27333333,  13844494.96333333,  15370128.65333333,\n",
       "         16895762.34333333,  18421396.03333334]),\n",
       " <a list of 10 Patch objects>)"
      ]
     },
     "execution_count": 6,
     "metadata": {},
     "output_type": "execute_result"
    },
    {
     "data": {
      "image/png": "[encoded data removed]",
      "text/plain": [
       "<matplotlib.figure.Figure at 0x113d66d30>"
      ]
     },
     "metadata": {},
     "output_type": "display_data"
    }
   ],
   "source": [
    "plt.hist(create_sample_distribution(funding_totals, 1000))"
   ]
  }
 ],
 "metadata": {
  "kernelspec": {
   "display_name": "Python 3",
   "language": "python",
   "name": "python3"
  },
  "language_info": {
   "codemirror_mode": {
    "name": "ipython",
    "version": 3
   },
   "file_extension": ".py",
   "mimetype": "text/x-python",
   "name": "python",
   "nbconvert_exporter": "python",
   "pygments_lexer": "ipython3",
   "version": "3.6.3"
  }
 },
 "nbformat": 4,
 "nbformat_minor": 2
}
