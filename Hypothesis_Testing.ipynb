{
 "cells": [
  {
   "cell_type": "markdown",
   "metadata": {},
   "source": [
    "Scenario 1\n",
    "1. What is your null hypothesis?\n",
    "    - The changes to the website did not cause an increase in sales.\n",
    "1. What is your alternative hypothesis?\n",
    "    - The changes to the website cause an increase in sales.\n",
    "1. Is this a one-sample or two sample test?\n",
    "    - Two sample test - there is a control group and treatment group\n",
    "1. Is this a one-sided or two-sided test?\n",
    "    - One-sided - we are looking for an increase in sales, not a change in sales\n",
    "1. Is this a left-tail or right-tail test?\n",
    "    - right-tail, we are looking for values greater than the mean\n",
    "1. What is your p-value?\n",
    "    - \n",
    "1. Based on the data, do you reject or fail to reject the null hypothesis?\n",
    "    - \n",
    "1. In layman’s terms, what does this mean to your boss?\n",
    "    - "
   ]
  },
  {
   "cell_type": "markdown",
   "metadata": {},
   "source": [
    "Scenario 2\n",
    "1. What is your null hypothesis?\n",
    "    - The new ad campaign has no effect on the click through rate.\n",
    "1. What is your alternative hypothesis?\n",
    "    - The new ad campaign has an effect on the click through rate.\n",
    "1. Is this a one-sample or two sample test?\n",
    "    - Two sample test - there is a control group and treatment group\n",
    "1. Is this a one-sided or two-sided test?\n",
    "    - two-sided - we are looking for any effect, so we are looking at both tails\n",
    "1. Is this a left-tail or right-tail test?\n",
    "    - A two-sided test looks at both tails\n",
    "1. What is your p-value?\n",
    "    -\n",
    "1. Based on the data, do you reject or fail to reject the null hypothesis?\n",
    "    - \n",
    "1. In layman’s terms, what does this mean to your boss?\n",
    "    - "
   ]
  },
  {
   "cell_type": "markdown",
   "metadata": {},
   "source": [
    "Scenario 3\n",
    "1. What is your null hypothesis?\n",
    "    - The new incentive scheme does not reduce the churn rate.\n",
    "1. What is your alternative hypothesis?\n",
    "    - The new incentive scheme does reduce the churn rate.\n",
    "1. Is this a one-sample or two sample test?\n",
    "    - This is a one-sample test, we are using a previously existing data point to compare to.\n",
    "1. Is this a one-sided or two-sided test?\n",
    "    - This is a one-sided test because we are looking for jsut a reduction, not a change in either direction.\n",
    "1. Is this a left-tail or right-tail test?\n",
    "    - This is a left-tail test because we are looking for values below 15%\n",
    "1. What is your p-value?\n",
    "    - \n",
    "1. Based on the data, do you reject or fail to reject the null hypothesis?\n",
    "    - \n",
    "1. In layman’s terms, what does this mean to your boss?\n",
    "    - "
   ]
  }
 ],
 "metadata": {
  "kernelspec": {
   "display_name": "Python 3",
   "language": "python",
   "name": "python3"
  },
  "language_info": {
   "codemirror_mode": {
    "name": "ipython",
    "version": 3
   },
   "file_extension": ".py",
   "mimetype": "text/x-python",
   "name": "python",
   "nbconvert_exporter": "python",
   "pygments_lexer": "ipython3",
   "version": "3.6.3"
  }
 },
 "nbformat": 4,
 "nbformat_minor": 2
}
