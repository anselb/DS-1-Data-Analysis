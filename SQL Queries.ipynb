{
 "cells": [
  {
   "cell_type": "code",
   "execution_count": null,
   "metadata": {
    "collapsed": true
   },
   "outputs": [],
   "source": [
    "HackerRank SQL Queries\n",
    "\n",
    "Query 1: \n",
    "SELECT * FROM city\n",
    "WHERE population > 100000 AND countrycode = 'USA';\n",
    "\n",
    "Query 2:\n",
    "SELECT name FROM city\n",
    "WHERE population > 120000 AND countrycode = 'USA';\n",
    "\n",
    "Query 3:\n",
    "SELECT * FROM city;\n",
    "\n",
    "Query 4:\n",
    "SELECT * FROM city\n",
    "WHERE id = 1661;\n",
    "\n",
    "Query 5:\n",
    "SELECT * FROM city\n",
    "WHERE countrycode = 'JPN';\n",
    "\n",
    "Query 6:\n",
    "SELECT name FROM city\n",
    "WHERE countrycode = 'JPN';\n",
    "\n",
    "Query 7:\n",
    "SELECT city, state FROM station\n",
    "\n",
    "Query 8:\n",
    "SELECT DISTINCT city FROM station\n",
    "WHERE (id % 2) = 0;\n",
    "\n",
    "Query 9:\n",
    "SELECT (count(city) - count(DISTINCT city)) FROM station;"
   ]
  },
  {
   "cell_type": "markdown",
   "metadata": {},
   "source": [
    "1. Get the player names, player hometowns, school names, player positions, and school conferences for all players with position ‘QB’ or ‘WR’\n",
    "\n",
    "    SELECT player_name, hometown, full_school_name, position, teams.conference \n",
    "    FROM benn.college_football_players players\n",
    "    JOIN benn.college_football_teams teams\n",
    "    ON players.school_name = teams.school_name\n",
    "    WHERE players.position = 'QB' OR players.position ='WR'\n",
    "\n",
    "2. Create a table that displays the average height of players at each position.\n",
    "    \n",
    "    SELECT AVG(height), position FROM benn.college_football_players \n",
    "    WHERE height != 0 and position != '?'\n",
    "    GROUP BY position\n",
    "    ORDER BY avg DESC\n",
    "\n",
    "3. Write a query that find the top 5 tallest players, as well as their position, height, school, and the conference they belong to.  \n",
    "\n",
    "4. Write a query that gets the company name, founding date, acquirer name, and acquisition date from the crunchbase database.  \n",
    "\n",
    "5. Companies from which 10 cities have the highest average acquisition amount?\n",
    "\n",
    "6. Write a query (or queries) that compares the average amount of investment raised by companies in SF per quarter to companies in NYC.  \n",
    "\n",
    "7. What is the max/min/average amount of investment money raised by companies in SF that have been acquired at some point?\n",
    "\n",
    "8. In SF, what pd_district am I most likely to have my car stolen, and on what day of the week is this most likely?\n",
    "\n",
    "9. Which top 3 categories of crime are most likely to go unresolved in Mission District?\n"
   ]
  },
  {
   "cell_type": "code",
   "execution_count": null,
   "metadata": {
    "collapsed": true
   },
   "outputs": [],
   "source": []
  }
 ],
 "metadata": {
  "kernelspec": {
   "display_name": "Python 3",
   "language": "python",
   "name": "python3"
  },
  "language_info": {
   "codemirror_mode": {
    "name": "ipython",
    "version": 3
   },
   "file_extension": ".py",
   "mimetype": "text/x-python",
   "name": "python",
   "nbconvert_exporter": "python",
   "pygments_lexer": "ipython3",
   "version": "3.6.3"
  }
 },
 "nbformat": 4,
 "nbformat_minor": 2
}
